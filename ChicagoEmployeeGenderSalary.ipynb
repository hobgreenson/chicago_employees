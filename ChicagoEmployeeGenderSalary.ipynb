{
 "cells": [
  {
   "cell_type": "code",
   "execution_count": 24,
   "metadata": {
    "collapsed": true
   },
   "outputs": [],
   "source": [
    "# Author: Matthew Green\n",
    "# Date: 12/7/2017\n",
    "# License: MIT\n",
    "\n",
    "import numpy as np\n",
    "import pandas as pd\n",
    "import matplotlib\n",
    "import matplotlib.pyplot as plt\n",
    "import seaborn as sns"
   ]
  },
  {
   "cell_type": "markdown",
   "metadata": {},
   "source": [
    "### Introduction\n",
    "\n",
    "I downloaded a CSV of [City of Chicago employee salary data](https://data.cityofchicago.org/Administration-Finance/Current-Employee-Names-Salaries-and-Position-Title/xzkq-xp2w), \n",
    "which includes the names, titles, departments and salaries of Chicago employees. I was\n",
    "interested to see whether men and women earn similar salaries for similar roles.\n",
    "\n",
    "City data don't report the gender of employees, so I used an employee's first name\n",
    "as a proxy, which is explained in more detail below."
   ]
  },
  {
   "cell_type": "code",
   "execution_count": 2,
   "metadata": {
    "collapsed": true
   },
   "outputs": [],
   "source": [
    "workers = pd.read_csv('Current_Employee_Names__Salaries__and_Position_Titles.csv')"
   ]
  },
  {
   "cell_type": "markdown",
   "metadata": {},
   "source": [
    "To simplify the analysis, I restricted my attention to full-time employees with a salary."
   ]
  },
  {
   "cell_type": "code",
   "execution_count": 3,
   "metadata": {},
   "outputs": [],
   "source": [
    "workers = workers[(workers['Salary or Hourly']=='Salary') & (workers['Full or Part-Time']=='F')]"
   ]
  },
  {
   "cell_type": "markdown",
   "metadata": {},
   "source": [
    "To make grouping and matching first names easier, I extracted the first name from each \n",
    "employee record and lower-cased it:"
   ]
  },
  {
   "cell_type": "code",
   "execution_count": 4,
   "metadata": {
    "collapsed": true
   },
   "outputs": [],
   "source": [
    "workers['Name'] = workers['Name'].apply(lambda s: s.split(',')[1].split()[0].lower())"
   ]
  },
  {
   "cell_type": "markdown",
   "metadata": {},
   "source": [
    "Annual salary is represented as a string with a leading $ sign, which I converted to floats."
   ]
  },
  {
   "cell_type": "code",
   "execution_count": 5,
   "metadata": {
    "collapsed": true
   },
   "outputs": [],
   "source": [
    "workers['Annual Salary'] = workers['Annual Salary'].apply(lambda s: float(s.strip('$')))"
   ]
  },
  {
   "cell_type": "markdown",
   "metadata": {},
   "source": [
    "The first ten rows of the data set look like this now:"
   ]
  },
  {
   "cell_type": "code",
   "execution_count": 6,
   "metadata": {},
   "outputs": [
    {
     "data": {
      "text/html": [
       "<div>\n",
       "<style>\n",
       "    .dataframe thead tr:only-child th {\n",
       "        text-align: right;\n",
       "    }\n",
       "\n",
       "    .dataframe thead th {\n",
       "        text-align: left;\n",
       "    }\n",
       "\n",
       "    .dataframe tbody tr th {\n",
       "        vertical-align: top;\n",
       "    }\n",
       "</style>\n",
       "<table border=\"1\" class=\"dataframe\">\n",
       "  <thead>\n",
       "    <tr style=\"text-align: right;\">\n",
       "      <th></th>\n",
       "      <th>Name</th>\n",
       "      <th>Job Titles</th>\n",
       "      <th>Department</th>\n",
       "      <th>Full or Part-Time</th>\n",
       "      <th>Salary or Hourly</th>\n",
       "      <th>Typical Hours</th>\n",
       "      <th>Annual Salary</th>\n",
       "      <th>Hourly Rate</th>\n",
       "    </tr>\n",
       "  </thead>\n",
       "  <tbody>\n",
       "    <tr>\n",
       "      <th>0</th>\n",
       "      <td>jeffery</td>\n",
       "      <td>SERGEANT</td>\n",
       "      <td>POLICE</td>\n",
       "      <td>F</td>\n",
       "      <td>Salary</td>\n",
       "      <td>NaN</td>\n",
       "      <td>101442.0</td>\n",
       "      <td>NaN</td>\n",
       "    </tr>\n",
       "    <tr>\n",
       "      <th>1</th>\n",
       "      <td>karina</td>\n",
       "      <td>POLICE OFFICER (ASSIGNED AS DETECTIVE)</td>\n",
       "      <td>POLICE</td>\n",
       "      <td>F</td>\n",
       "      <td>Salary</td>\n",
       "      <td>NaN</td>\n",
       "      <td>94122.0</td>\n",
       "      <td>NaN</td>\n",
       "    </tr>\n",
       "    <tr>\n",
       "      <th>2</th>\n",
       "      <td>kimberlei</td>\n",
       "      <td>CHIEF CONTRACT EXPEDITER</td>\n",
       "      <td>GENERAL SERVICES</td>\n",
       "      <td>F</td>\n",
       "      <td>Salary</td>\n",
       "      <td>NaN</td>\n",
       "      <td>101592.0</td>\n",
       "      <td>NaN</td>\n",
       "    </tr>\n",
       "    <tr>\n",
       "      <th>3</th>\n",
       "      <td>vicente</td>\n",
       "      <td>CIVIL ENGINEER IV</td>\n",
       "      <td>WATER MGMNT</td>\n",
       "      <td>F</td>\n",
       "      <td>Salary</td>\n",
       "      <td>NaN</td>\n",
       "      <td>110064.0</td>\n",
       "      <td>NaN</td>\n",
       "    </tr>\n",
       "    <tr>\n",
       "      <th>6</th>\n",
       "      <td>christopher</td>\n",
       "      <td>STAFF ASST TO THE ALDERMAN</td>\n",
       "      <td>CITY COUNCIL</td>\n",
       "      <td>F</td>\n",
       "      <td>Salary</td>\n",
       "      <td>NaN</td>\n",
       "      <td>50436.0</td>\n",
       "      <td>NaN</td>\n",
       "    </tr>\n",
       "    <tr>\n",
       "      <th>9</th>\n",
       "      <td>james</td>\n",
       "      <td>FIRE ENGINEER-EMT</td>\n",
       "      <td>FIRE</td>\n",
       "      <td>F</td>\n",
       "      <td>Salary</td>\n",
       "      <td>NaN</td>\n",
       "      <td>103350.0</td>\n",
       "      <td>NaN</td>\n",
       "    </tr>\n",
       "    <tr>\n",
       "      <th>10</th>\n",
       "      <td>terry</td>\n",
       "      <td>POLICE OFFICER</td>\n",
       "      <td>POLICE</td>\n",
       "      <td>F</td>\n",
       "      <td>Salary</td>\n",
       "      <td>NaN</td>\n",
       "      <td>93354.0</td>\n",
       "      <td>NaN</td>\n",
       "    </tr>\n",
       "    <tr>\n",
       "      <th>12</th>\n",
       "      <td>zaid</td>\n",
       "      <td>POLICE OFFICER</td>\n",
       "      <td>POLICE</td>\n",
       "      <td>F</td>\n",
       "      <td>Salary</td>\n",
       "      <td>NaN</td>\n",
       "      <td>84054.0</td>\n",
       "      <td>NaN</td>\n",
       "    </tr>\n",
       "    <tr>\n",
       "      <th>13</th>\n",
       "      <td>abdalmahd</td>\n",
       "      <td>POLICE OFFICER</td>\n",
       "      <td>POLICE</td>\n",
       "      <td>F</td>\n",
       "      <td>Salary</td>\n",
       "      <td>NaN</td>\n",
       "      <td>87006.0</td>\n",
       "      <td>NaN</td>\n",
       "    </tr>\n",
       "    <tr>\n",
       "      <th>14</th>\n",
       "      <td>aref</td>\n",
       "      <td>FIREFIGHTER (PER ARBITRATORS AWARD)-PARAMEDIC</td>\n",
       "      <td>FIRE</td>\n",
       "      <td>F</td>\n",
       "      <td>Salary</td>\n",
       "      <td>NaN</td>\n",
       "      <td>102228.0</td>\n",
       "      <td>NaN</td>\n",
       "    </tr>\n",
       "  </tbody>\n",
       "</table>\n",
       "</div>"
      ],
      "text/plain": [
       "           Name                                     Job Titles  \\\n",
       "0       jeffery                                       SERGEANT   \n",
       "1        karina         POLICE OFFICER (ASSIGNED AS DETECTIVE)   \n",
       "2     kimberlei                       CHIEF CONTRACT EXPEDITER   \n",
       "3       vicente                              CIVIL ENGINEER IV   \n",
       "6   christopher                     STAFF ASST TO THE ALDERMAN   \n",
       "9         james                              FIRE ENGINEER-EMT   \n",
       "10        terry                                 POLICE OFFICER   \n",
       "12         zaid                                 POLICE OFFICER   \n",
       "13    abdalmahd                                 POLICE OFFICER   \n",
       "14         aref  FIREFIGHTER (PER ARBITRATORS AWARD)-PARAMEDIC   \n",
       "\n",
       "          Department Full or Part-Time Salary or Hourly  Typical Hours  \\\n",
       "0             POLICE                 F           Salary            NaN   \n",
       "1             POLICE                 F           Salary            NaN   \n",
       "2   GENERAL SERVICES                 F           Salary            NaN   \n",
       "3        WATER MGMNT                 F           Salary            NaN   \n",
       "6       CITY COUNCIL                 F           Salary            NaN   \n",
       "9               FIRE                 F           Salary            NaN   \n",
       "10            POLICE                 F           Salary            NaN   \n",
       "12            POLICE                 F           Salary            NaN   \n",
       "13            POLICE                 F           Salary            NaN   \n",
       "14              FIRE                 F           Salary            NaN   \n",
       "\n",
       "    Annual Salary Hourly Rate  \n",
       "0        101442.0         NaN  \n",
       "1         94122.0         NaN  \n",
       "2        101592.0         NaN  \n",
       "3        110064.0         NaN  \n",
       "6         50436.0         NaN  \n",
       "9        103350.0         NaN  \n",
       "10        93354.0         NaN  \n",
       "12        84054.0         NaN  \n",
       "13        87006.0         NaN  \n",
       "14       102228.0         NaN  "
      ]
     },
     "execution_count": 6,
     "metadata": {},
     "output_type": "execute_result"
    }
   ],
   "source": [
    "workers.head(10)"
   ]
  },
  {
   "cell_type": "markdown",
   "metadata": {},
   "source": [
    "### Gender prediction\n",
    "\n",
    "To estimate the gender of an employee based on his or her first name, I used a data set of \n",
    "[baby names](https://www.ssa.gov/oact/babynames/limits.html). For each unique name, I counted\n",
    "how many times, from years 1940 to 2016, that name had been given to a boy versus a girl. If \n",
    "the name was more frequently given to boys, then I predicted the gender associated with the\n",
    "name to be male, and vice-versa for female."
   ]
  },
  {
   "cell_type": "code",
   "execution_count": 7,
   "metadata": {},
   "outputs": [],
   "source": [
    "# Data are in seperate CSV files per year, and are concatenated here\n",
    "name_data = []\n",
    "for yob in range(1940, 2017):\n",
    "    df = pd.read_csv('names/yob' + str(yob) + '.txt', \n",
    "                     header=0, names=['Name', 'Gender', 'Count'])\n",
    "    name_data.append(df)\n",
    "names = pd.concat(name_data, axis=0)"
   ]
  },
  {
   "cell_type": "code",
   "execution_count": 8,
   "metadata": {
    "collapsed": true
   },
   "outputs": [],
   "source": [
    "# Lower-case first name so that it can be joined with the workers dataframe\n",
    "names['Name'] = names['Name'].str.lower()"
   ]
  },
  {
   "cell_type": "code",
   "execution_count": 9,
   "metadata": {},
   "outputs": [
    {
     "data": {
      "text/html": [
       "<div>\n",
       "<style>\n",
       "    .dataframe thead tr:only-child th {\n",
       "        text-align: right;\n",
       "    }\n",
       "\n",
       "    .dataframe thead th {\n",
       "        text-align: left;\n",
       "    }\n",
       "\n",
       "    .dataframe tbody tr th {\n",
       "        vertical-align: top;\n",
       "    }\n",
       "</style>\n",
       "<table border=\"1\" class=\"dataframe\">\n",
       "  <thead>\n",
       "    <tr style=\"text-align: right;\">\n",
       "      <th></th>\n",
       "      <th>Name</th>\n",
       "      <th>Gender</th>\n",
       "      <th>Count</th>\n",
       "    </tr>\n",
       "  </thead>\n",
       "  <tbody>\n",
       "    <tr>\n",
       "      <th>0</th>\n",
       "      <td>barbara</td>\n",
       "      <td>F</td>\n",
       "      <td>36732</td>\n",
       "    </tr>\n",
       "    <tr>\n",
       "      <th>1</th>\n",
       "      <td>patricia</td>\n",
       "      <td>F</td>\n",
       "      <td>32662</td>\n",
       "    </tr>\n",
       "    <tr>\n",
       "      <th>2</th>\n",
       "      <td>judith</td>\n",
       "      <td>F</td>\n",
       "      <td>22380</td>\n",
       "    </tr>\n",
       "    <tr>\n",
       "      <th>3</th>\n",
       "      <td>betty</td>\n",
       "      <td>F</td>\n",
       "      <td>22075</td>\n",
       "    </tr>\n",
       "    <tr>\n",
       "      <th>4</th>\n",
       "      <td>carol</td>\n",
       "      <td>F</td>\n",
       "      <td>21760</td>\n",
       "    </tr>\n",
       "  </tbody>\n",
       "</table>\n",
       "</div>"
      ],
      "text/plain": [
       "       Name Gender  Count\n",
       "0   barbara      F  36732\n",
       "1  patricia      F  32662\n",
       "2    judith      F  22380\n",
       "3     betty      F  22075\n",
       "4     carol      F  21760"
      ]
     },
     "execution_count": 9,
     "metadata": {},
     "output_type": "execute_result"
    }
   ],
   "source": [
    "names.head(5)"
   ]
  },
  {
   "cell_type": "code",
   "execution_count": 10,
   "metadata": {
    "collapsed": true
   },
   "outputs": [],
   "source": [
    "# Count how often a name is given to boys and girls\n",
    "gender_frequency = names.groupby(['Name', 'Gender']).sum().reset_index()"
   ]
  },
  {
   "cell_type": "code",
   "execution_count": 11,
   "metadata": {},
   "outputs": [
    {
     "data": {
      "text/html": [
       "<div>\n",
       "<style>\n",
       "    .dataframe thead tr:only-child th {\n",
       "        text-align: right;\n",
       "    }\n",
       "\n",
       "    .dataframe thead th {\n",
       "        text-align: left;\n",
       "    }\n",
       "\n",
       "    .dataframe tbody tr th {\n",
       "        vertical-align: top;\n",
       "    }\n",
       "</style>\n",
       "<table border=\"1\" class=\"dataframe\">\n",
       "  <thead>\n",
       "    <tr style=\"text-align: right;\">\n",
       "      <th></th>\n",
       "      <th>Name</th>\n",
       "      <th>Gender</th>\n",
       "      <th>Count</th>\n",
       "    </tr>\n",
       "  </thead>\n",
       "  <tbody>\n",
       "    <tr>\n",
       "      <th>45558</th>\n",
       "      <td>joslyn</td>\n",
       "      <td>F</td>\n",
       "      <td>9747</td>\n",
       "    </tr>\n",
       "    <tr>\n",
       "      <th>52124</th>\n",
       "      <td>kidada</td>\n",
       "      <td>F</td>\n",
       "      <td>93</td>\n",
       "    </tr>\n",
       "    <tr>\n",
       "      <th>88322</th>\n",
       "      <td>tailer</td>\n",
       "      <td>F</td>\n",
       "      <td>193</td>\n",
       "    </tr>\n",
       "    <tr>\n",
       "      <th>27454</th>\n",
       "      <td>earlina</td>\n",
       "      <td>F</td>\n",
       "      <td>6</td>\n",
       "    </tr>\n",
       "    <tr>\n",
       "      <th>90148</th>\n",
       "      <td>taytem</td>\n",
       "      <td>F</td>\n",
       "      <td>180</td>\n",
       "    </tr>\n",
       "  </tbody>\n",
       "</table>\n",
       "</div>"
      ],
      "text/plain": [
       "          Name Gender  Count\n",
       "45558   joslyn      F   9747\n",
       "52124   kidada      F     93\n",
       "88322   tailer      F    193\n",
       "27454  earlina      F      6\n",
       "90148   taytem      F    180"
      ]
     },
     "execution_count": 11,
     "metadata": {},
     "output_type": "execute_result"
    }
   ],
   "source": [
    "gender_frequency.sample(5)"
   ]
  },
  {
   "cell_type": "code",
   "execution_count": 12,
   "metadata": {
    "collapsed": true
   },
   "outputs": [],
   "source": [
    "def predict_gender(df):\n",
    "    max_idx = df['Count'].idxmax()\n",
    "    return df.loc[max_idx]"
   ]
  },
  {
   "cell_type": "code",
   "execution_count": 13,
   "metadata": {},
   "outputs": [],
   "source": [
    "# Select the more frequent gender for each name\n",
    "gender_guess = gender_frequency.groupby('Name').agg(predict_gender).reset_index()"
   ]
  },
  {
   "cell_type": "code",
   "execution_count": 14,
   "metadata": {},
   "outputs": [
    {
     "data": {
      "text/html": [
       "<div>\n",
       "<style>\n",
       "    .dataframe thead tr:only-child th {\n",
       "        text-align: right;\n",
       "    }\n",
       "\n",
       "    .dataframe thead th {\n",
       "        text-align: left;\n",
       "    }\n",
       "\n",
       "    .dataframe tbody tr th {\n",
       "        vertical-align: top;\n",
       "    }\n",
       "</style>\n",
       "<table border=\"1\" class=\"dataframe\">\n",
       "  <thead>\n",
       "    <tr style=\"text-align: right;\">\n",
       "      <th></th>\n",
       "      <th>Name</th>\n",
       "      <th>Gender</th>\n",
       "      <th>Count</th>\n",
       "    </tr>\n",
       "  </thead>\n",
       "  <tbody>\n",
       "    <tr>\n",
       "      <th>60264</th>\n",
       "      <td>moayed</td>\n",
       "      <td>M</td>\n",
       "      <td>7</td>\n",
       "    </tr>\n",
       "    <tr>\n",
       "      <th>51581</th>\n",
       "      <td>leiasia</td>\n",
       "      <td>F</td>\n",
       "      <td>12</td>\n",
       "    </tr>\n",
       "    <tr>\n",
       "      <th>87844</th>\n",
       "      <td>xander</td>\n",
       "      <td>M</td>\n",
       "      <td>22482</td>\n",
       "    </tr>\n",
       "    <tr>\n",
       "      <th>67226</th>\n",
       "      <td>quantiana</td>\n",
       "      <td>F</td>\n",
       "      <td>5</td>\n",
       "    </tr>\n",
       "    <tr>\n",
       "      <th>24967</th>\n",
       "      <td>edroy</td>\n",
       "      <td>M</td>\n",
       "      <td>5</td>\n",
       "    </tr>\n",
       "    <tr>\n",
       "      <th>49449</th>\n",
       "      <td>lajae</td>\n",
       "      <td>F</td>\n",
       "      <td>18</td>\n",
       "    </tr>\n",
       "    <tr>\n",
       "      <th>53958</th>\n",
       "      <td>luvenia</td>\n",
       "      <td>F</td>\n",
       "      <td>1233</td>\n",
       "    </tr>\n",
       "    <tr>\n",
       "      <th>48929</th>\n",
       "      <td>kyran</td>\n",
       "      <td>M</td>\n",
       "      <td>2274</td>\n",
       "    </tr>\n",
       "    <tr>\n",
       "      <th>57741</th>\n",
       "      <td>matthan</td>\n",
       "      <td>M</td>\n",
       "      <td>247</td>\n",
       "    </tr>\n",
       "    <tr>\n",
       "      <th>43294</th>\n",
       "      <td>karam</td>\n",
       "      <td>M</td>\n",
       "      <td>722</td>\n",
       "    </tr>\n",
       "  </tbody>\n",
       "</table>\n",
       "</div>"
      ],
      "text/plain": [
       "            Name Gender  Count\n",
       "60264     moayed      M      7\n",
       "51581    leiasia      F     12\n",
       "87844     xander      M  22482\n",
       "67226  quantiana      F      5\n",
       "24967      edroy      M      5\n",
       "49449      lajae      F     18\n",
       "53958    luvenia      F   1233\n",
       "48929      kyran      M   2274\n",
       "57741    matthan      M    247\n",
       "43294      karam      M    722"
      ]
     },
     "execution_count": 14,
     "metadata": {},
     "output_type": "execute_result"
    }
   ],
   "source": [
    "gender_guess.sample(10)"
   ]
  },
  {
   "cell_type": "markdown",
   "metadata": {},
   "source": [
    "The above list of names and associated genders can be combined with the worker data to \n",
    "predict the gender of each Chicago employee using a join:"
   ]
  },
  {
   "cell_type": "code",
   "execution_count": 15,
   "metadata": {
    "collapsed": true
   },
   "outputs": [],
   "source": [
    "workers = pd.merge(workers, gender_guess, on='Name', how='inner')"
   ]
  },
  {
   "cell_type": "code",
   "execution_count": 16,
   "metadata": {},
   "outputs": [
    {
     "data": {
      "text/html": [
       "<div>\n",
       "<style>\n",
       "    .dataframe thead tr:only-child th {\n",
       "        text-align: right;\n",
       "    }\n",
       "\n",
       "    .dataframe thead th {\n",
       "        text-align: left;\n",
       "    }\n",
       "\n",
       "    .dataframe tbody tr th {\n",
       "        vertical-align: top;\n",
       "    }\n",
       "</style>\n",
       "<table border=\"1\" class=\"dataframe\">\n",
       "  <thead>\n",
       "    <tr style=\"text-align: right;\">\n",
       "      <th></th>\n",
       "      <th>Name</th>\n",
       "      <th>Job Titles</th>\n",
       "      <th>Department</th>\n",
       "      <th>Gender</th>\n",
       "      <th>Annual Salary</th>\n",
       "    </tr>\n",
       "  </thead>\n",
       "  <tbody>\n",
       "    <tr>\n",
       "      <th>5132</th>\n",
       "      <td>alejandro</td>\n",
       "      <td>SERGEANT</td>\n",
       "      <td>POLICE</td>\n",
       "      <td>M</td>\n",
       "      <td>111474.0</td>\n",
       "    </tr>\n",
       "    <tr>\n",
       "      <th>15833</th>\n",
       "      <td>ronald</td>\n",
       "      <td>FIREFIGHTER</td>\n",
       "      <td>FIRE</td>\n",
       "      <td>M</td>\n",
       "      <td>90024.0</td>\n",
       "    </tr>\n",
       "    <tr>\n",
       "      <th>8266</th>\n",
       "      <td>timothy</td>\n",
       "      <td>FIRE ENGINEER-PARAMEDIC</td>\n",
       "      <td>FIRE</td>\n",
       "      <td>M</td>\n",
       "      <td>105804.0</td>\n",
       "    </tr>\n",
       "    <tr>\n",
       "      <th>15113</th>\n",
       "      <td>isabel</td>\n",
       "      <td>HEAD LIBRARY CLERK</td>\n",
       "      <td>PUBLIC LIBRARY</td>\n",
       "      <td>F</td>\n",
       "      <td>63876.0</td>\n",
       "    </tr>\n",
       "    <tr>\n",
       "      <th>13747</th>\n",
       "      <td>christophe</td>\n",
       "      <td>POLICE OFFICER</td>\n",
       "      <td>POLICE</td>\n",
       "      <td>M</td>\n",
       "      <td>90024.0</td>\n",
       "    </tr>\n",
       "    <tr>\n",
       "      <th>5791</th>\n",
       "      <td>eric</td>\n",
       "      <td>SERGEANT</td>\n",
       "      <td>POLICE</td>\n",
       "      <td>M</td>\n",
       "      <td>107988.0</td>\n",
       "    </tr>\n",
       "    <tr>\n",
       "      <th>23372</th>\n",
       "      <td>mayur</td>\n",
       "      <td>CIVIL ENGINEER III</td>\n",
       "      <td>TRANSPORTN</td>\n",
       "      <td>M</td>\n",
       "      <td>70092.0</td>\n",
       "    </tr>\n",
       "    <tr>\n",
       "      <th>4141</th>\n",
       "      <td>michael</td>\n",
       "      <td>POLICE OFFICER</td>\n",
       "      <td>POLICE</td>\n",
       "      <td>M</td>\n",
       "      <td>72510.0</td>\n",
       "    </tr>\n",
       "    <tr>\n",
       "      <th>7175</th>\n",
       "      <td>dwayne</td>\n",
       "      <td>POLICE OFFICER</td>\n",
       "      <td>POLICE</td>\n",
       "      <td>M</td>\n",
       "      <td>93354.0</td>\n",
       "    </tr>\n",
       "    <tr>\n",
       "      <th>19643</th>\n",
       "      <td>cleveland</td>\n",
       "      <td>FIRE ENGINEER-EMT</td>\n",
       "      <td>FIRE</td>\n",
       "      <td>M</td>\n",
       "      <td>110214.0</td>\n",
       "    </tr>\n",
       "  </tbody>\n",
       "</table>\n",
       "</div>"
      ],
      "text/plain": [
       "             Name               Job Titles      Department Gender  \\\n",
       "5132    alejandro                 SERGEANT          POLICE      M   \n",
       "15833      ronald              FIREFIGHTER            FIRE      M   \n",
       "8266      timothy  FIRE ENGINEER-PARAMEDIC            FIRE      M   \n",
       "15113      isabel       HEAD LIBRARY CLERK  PUBLIC LIBRARY      F   \n",
       "13747  christophe           POLICE OFFICER          POLICE      M   \n",
       "5791         eric                 SERGEANT          POLICE      M   \n",
       "23372       mayur       CIVIL ENGINEER III      TRANSPORTN      M   \n",
       "4141      michael           POLICE OFFICER          POLICE      M   \n",
       "7175       dwayne           POLICE OFFICER          POLICE      M   \n",
       "19643   cleveland        FIRE ENGINEER-EMT            FIRE      M   \n",
       "\n",
       "       Annual Salary  \n",
       "5132        111474.0  \n",
       "15833        90024.0  \n",
       "8266        105804.0  \n",
       "15113        63876.0  \n",
       "13747        90024.0  \n",
       "5791        107988.0  \n",
       "23372        70092.0  \n",
       "4141         72510.0  \n",
       "7175         93354.0  \n",
       "19643       110214.0  "
      ]
     },
     "execution_count": 16,
     "metadata": {},
     "output_type": "execute_result"
    }
   ],
   "source": [
    "workers[['Name', 'Job Titles', 'Department', 'Gender', 'Annual Salary']].sample(10)"
   ]
  },
  {
   "cell_type": "markdown",
   "metadata": {},
   "source": [
    "### Analysis\n",
    "\n",
    "I wanted to know wether men and women were paid equally if they shared the same job title and\n",
    "department. To answer this, I specifically looked at full-time, salaried employees, and jobs\n",
    "for which both men and women were employed under the same title and department.\n",
    "\n",
    "For example, given the job title POLICE OFFICER in the POLICE department, a position for which\n",
    "both men and women are employed, do male and female officers have similar salaries? More\n",
    "generally, are men and women paid equally across all job titles and departments?"
   ]
  },
  {
   "cell_type": "code",
   "execution_count": 17,
   "metadata": {
    "collapsed": true
   },
   "outputs": [],
   "source": [
    "# Focus on these columns\n",
    "workers = workers[['Job Titles', 'Department', 'Gender', 'Annual Salary']]"
   ]
  },
  {
   "cell_type": "code",
   "execution_count": 18,
   "metadata": {},
   "outputs": [],
   "source": [
    "# Remove jobs for which only men or only women are employed\n",
    "job_groups = workers[['Job Titles', 'Gender', 'Annual Salary']].groupby(['Job Titles'])\n",
    "def male_and_female(grp):\n",
    "    return np.any(grp['Gender']=='M') and np.any(grp['Gender']=='F')\n",
    "job_groups = job_groups.filter(male_and_female)"
   ]
  },
  {
   "cell_type": "code",
   "execution_count": 19,
   "metadata": {},
   "outputs": [],
   "source": [
    "# Look at the maximum salary of each gender for each job title\n",
    "job_group_maximums = job_groups.groupby(['Job Titles', 'Gender']).agg(np.max)"
   ]
  },
  {
   "cell_type": "code",
   "execution_count": 20,
   "metadata": {},
   "outputs": [
    {
     "data": {
      "text/html": [
       "<div>\n",
       "<style>\n",
       "    .dataframe thead tr:only-child th {\n",
       "        text-align: right;\n",
       "    }\n",
       "\n",
       "    .dataframe thead th {\n",
       "        text-align: left;\n",
       "    }\n",
       "\n",
       "    .dataframe tbody tr th {\n",
       "        vertical-align: top;\n",
       "    }\n",
       "</style>\n",
       "<table border=\"1\" class=\"dataframe\">\n",
       "  <thead>\n",
       "    <tr style=\"text-align: right;\">\n",
       "      <th></th>\n",
       "      <th></th>\n",
       "      <th>Annual Salary</th>\n",
       "    </tr>\n",
       "    <tr>\n",
       "      <th>Job Titles</th>\n",
       "      <th>Gender</th>\n",
       "      <th></th>\n",
       "    </tr>\n",
       "  </thead>\n",
       "  <tbody>\n",
       "    <tr>\n",
       "      <th rowspan=\"2\" valign=\"top\">A/SUPRV REDISTRICTING</th>\n",
       "      <th>F</th>\n",
       "      <td>44604.0</td>\n",
       "    </tr>\n",
       "    <tr>\n",
       "      <th>M</th>\n",
       "      <td>49236.0</td>\n",
       "    </tr>\n",
       "    <tr>\n",
       "      <th rowspan=\"2\" valign=\"top\">ACCIDENT ADJUSTER</th>\n",
       "      <th>F</th>\n",
       "      <td>53340.0</td>\n",
       "    </tr>\n",
       "    <tr>\n",
       "      <th>M</th>\n",
       "      <td>88344.0</td>\n",
       "    </tr>\n",
       "    <tr>\n",
       "      <th rowspan=\"2\" valign=\"top\">ACCOUNTANT I</th>\n",
       "      <th>F</th>\n",
       "      <td>76548.0</td>\n",
       "    </tr>\n",
       "    <tr>\n",
       "      <th>M</th>\n",
       "      <td>76548.0</td>\n",
       "    </tr>\n",
       "    <tr>\n",
       "      <th rowspan=\"2\" valign=\"top\">ACCOUNTANT II</th>\n",
       "      <th>F</th>\n",
       "      <td>84516.0</td>\n",
       "    </tr>\n",
       "    <tr>\n",
       "      <th>M</th>\n",
       "      <td>84516.0</td>\n",
       "    </tr>\n",
       "    <tr>\n",
       "      <th rowspan=\"2\" valign=\"top\">ACCOUNTANT III</th>\n",
       "      <th>F</th>\n",
       "      <td>92388.0</td>\n",
       "    </tr>\n",
       "    <tr>\n",
       "      <th>M</th>\n",
       "      <td>92388.0</td>\n",
       "    </tr>\n",
       "    <tr>\n",
       "      <th rowspan=\"2\" valign=\"top\">ACCOUNTANT IV</th>\n",
       "      <th>F</th>\n",
       "      <td>100776.0</td>\n",
       "    </tr>\n",
       "    <tr>\n",
       "      <th>M</th>\n",
       "      <td>100776.0</td>\n",
       "    </tr>\n",
       "    <tr>\n",
       "      <th rowspan=\"2\" valign=\"top\">ACCOUNTING TECHNICIAN I</th>\n",
       "      <th>F</th>\n",
       "      <td>70092.0</td>\n",
       "    </tr>\n",
       "    <tr>\n",
       "      <th>M</th>\n",
       "      <td>70092.0</td>\n",
       "    </tr>\n",
       "    <tr>\n",
       "      <th rowspan=\"2\" valign=\"top\">ACCOUNTING TECHNICIAN II</th>\n",
       "      <th>F</th>\n",
       "      <td>76932.0</td>\n",
       "    </tr>\n",
       "    <tr>\n",
       "      <th>M</th>\n",
       "      <td>76932.0</td>\n",
       "    </tr>\n",
       "    <tr>\n",
       "      <th rowspan=\"2\" valign=\"top\">ADMINISTRATIVE ASST</th>\n",
       "      <th>F</th>\n",
       "      <td>150000.0</td>\n",
       "    </tr>\n",
       "    <tr>\n",
       "      <th>M</th>\n",
       "      <td>165000.0</td>\n",
       "    </tr>\n",
       "    <tr>\n",
       "      <th rowspan=\"2\" valign=\"top\">ADMINISTRATIVE ASST II</th>\n",
       "      <th>F</th>\n",
       "      <td>70092.0</td>\n",
       "    </tr>\n",
       "    <tr>\n",
       "      <th>M</th>\n",
       "      <td>70092.0</td>\n",
       "    </tr>\n",
       "    <tr>\n",
       "      <th rowspan=\"2\" valign=\"top\">ADMINISTRATIVE ASST III</th>\n",
       "      <th>F</th>\n",
       "      <td>84420.0</td>\n",
       "    </tr>\n",
       "    <tr>\n",
       "      <th>M</th>\n",
       "      <td>84420.0</td>\n",
       "    </tr>\n",
       "    <tr>\n",
       "      <th rowspan=\"2\" valign=\"top\">ADMINISTRATIVE ASST TO DEPUTY CORPORATION COUNSEL</th>\n",
       "      <th>F</th>\n",
       "      <td>89076.0</td>\n",
       "    </tr>\n",
       "    <tr>\n",
       "      <th>M</th>\n",
       "      <td>62820.0</td>\n",
       "    </tr>\n",
       "    <tr>\n",
       "      <th rowspan=\"2\" valign=\"top\">ADMINISTRATIVE MANAGER</th>\n",
       "      <th>F</th>\n",
       "      <td>97740.0</td>\n",
       "    </tr>\n",
       "    <tr>\n",
       "      <th>M</th>\n",
       "      <td>112284.0</td>\n",
       "    </tr>\n",
       "    <tr>\n",
       "      <th rowspan=\"2\" valign=\"top\">ADMINISTRATIVE SECRETARY</th>\n",
       "      <th>F</th>\n",
       "      <td>74340.0</td>\n",
       "    </tr>\n",
       "    <tr>\n",
       "      <th>M</th>\n",
       "      <td>185004.0</td>\n",
       "    </tr>\n",
       "    <tr>\n",
       "      <th rowspan=\"2\" valign=\"top\">ADMINISTRATIVE SERVICES OFFICER I</th>\n",
       "      <th>F</th>\n",
       "      <td>92592.0</td>\n",
       "    </tr>\n",
       "    <tr>\n",
       "      <th>M</th>\n",
       "      <td>80568.0</td>\n",
       "    </tr>\n",
       "  </tbody>\n",
       "</table>\n",
       "</div>"
      ],
      "text/plain": [
       "                                                          Annual Salary\n",
       "Job Titles                                        Gender               \n",
       "A/SUPRV REDISTRICTING                             F             44604.0\n",
       "                                                  M             49236.0\n",
       "ACCIDENT ADJUSTER                                 F             53340.0\n",
       "                                                  M             88344.0\n",
       "ACCOUNTANT I                                      F             76548.0\n",
       "                                                  M             76548.0\n",
       "ACCOUNTANT II                                     F             84516.0\n",
       "                                                  M             84516.0\n",
       "ACCOUNTANT III                                    F             92388.0\n",
       "                                                  M             92388.0\n",
       "ACCOUNTANT IV                                     F            100776.0\n",
       "                                                  M            100776.0\n",
       "ACCOUNTING TECHNICIAN I                           F             70092.0\n",
       "                                                  M             70092.0\n",
       "ACCOUNTING TECHNICIAN II                          F             76932.0\n",
       "                                                  M             76932.0\n",
       "ADMINISTRATIVE ASST                               F            150000.0\n",
       "                                                  M            165000.0\n",
       "ADMINISTRATIVE ASST II                            F             70092.0\n",
       "                                                  M             70092.0\n",
       "ADMINISTRATIVE ASST III                           F             84420.0\n",
       "                                                  M             84420.0\n",
       "ADMINISTRATIVE ASST TO DEPUTY CORPORATION COUNSEL F             89076.0\n",
       "                                                  M             62820.0\n",
       "ADMINISTRATIVE MANAGER                            F             97740.0\n",
       "                                                  M            112284.0\n",
       "ADMINISTRATIVE SECRETARY                          F             74340.0\n",
       "                                                  M            185004.0\n",
       "ADMINISTRATIVE SERVICES OFFICER I                 F             92592.0\n",
       "                                                  M             80568.0"
      ]
     },
     "execution_count": 20,
     "metadata": {},
     "output_type": "execute_result"
    }
   ],
   "source": [
    "job_group_maximums.head(30)"
   ]
  },
  {
   "cell_type": "code",
   "execution_count": 21,
   "metadata": {},
   "outputs": [],
   "source": [
    "higher_max_male_salary_count = 0\n",
    "total_jobs = 0\n",
    "for job_title, df in job_group_maximums.groupby(level=0):\n",
    "    assert len(df) == 2\n",
    "    if df.loc[(job_title, 'M')][0] > df.loc[(job_title, 'F')][0]:\n",
    "        higher_max_male_salary_count += 1\n",
    "    total_jobs += 1"
   ]
  },
  {
   "cell_type": "code",
   "execution_count": 22,
   "metadata": {
    "collapsed": true
   },
   "outputs": [],
   "source": [
    "higher_max_male_salary_percentage = 100 * higher_max_male_salary_count / total_jobs"
   ]
  },
  {
   "cell_type": "code",
   "execution_count": 23,
   "metadata": {},
   "outputs": [
    {
     "data": {
      "text/plain": [
       "29.748283752860413"
      ]
     },
     "execution_count": 23,
     "metadata": {},
     "output_type": "execute_result"
    }
   ],
   "source": [
    "higher_max_male_salary_percentage"
   ]
  },
  {
   "cell_type": "code",
   "execution_count": 25,
   "metadata": {
    "collapsed": true
   },
   "outputs": [],
   "source": [
    "ax = sns.stripplot(x=\"Gender\", y=\"Annual Salary\", data=job_group_maximums.reset_index(), jitter=True)"
   ]
  },
  {
   "cell_type": "code",
   "execution_count": 26,
   "metadata": {},
   "outputs": [
    {
     "data": {
      "image/png": "[encoded data removed]",
      "text/plain": [
       "<matplotlib.figure.Figure at 0x136aa5898>"
      ]
     },
     "metadata": {},
     "output_type": "display_data"
    }
   ],
   "source": [
    "plt.show()"
   ]
  },
  {
   "cell_type": "code",
   "execution_count": null,
   "metadata": {
    "collapsed": true
   },
   "outputs": [],
   "source": []
  }
 ],
 "metadata": {
  "kernelspec": {
   "display_name": "Python 3",
   "language": "python",
   "name": "python3"
  },
  "language_info": {
   "codemirror_mode": {
    "name": "ipython",
    "version": 3
   },
   "file_extension": ".py",
   "mimetype": "text/x-python",
   "name": "python",
   "nbconvert_exporter": "python",
   "pygments_lexer": "ipython3",
   "version": "3.6.1"
  }
 },
 "nbformat": 4,
 "nbformat_minor": 2
}
